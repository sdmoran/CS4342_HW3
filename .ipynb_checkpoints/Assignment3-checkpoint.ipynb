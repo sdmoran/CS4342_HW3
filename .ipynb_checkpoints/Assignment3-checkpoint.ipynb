{
 "cells": [
  {
   "cell_type": "code",
   "execution_count": 30,
   "metadata": {},
   "outputs": [],
   "source": [
    "# Imports\n",
    "import scipy\n",
    "from scipy.stats import norm\n",
    "import matplotlib.pyplot as plt\n",
    "import numpy as np\n",
    "import csv"
   ]
  },
  {
   "cell_type": "code",
   "execution_count": 43,
   "metadata": {},
   "outputs": [
    {
     "name": "stdout",
     "output_type": "stream",
     "text": [
      "Class 1:  3000\n",
      "Class 2:  1500\n",
      "Mu 1:  1.9993985786113184 Sigma 1:  5.04604258685262\n",
      "Mu 2:  2.9682945975810497 Sigma 2:  1.9806803152971366\n",
      "Predicted class 1:  3663\n",
      "Predicted class 2:  837\n",
      "TPR:  0.7818608287724785\n",
      "FPR:  0.0\n"
     ]
    },
    {
     "data": {
      "image/png": "[encoded data removed]",
      "text/plain": [
       "<Figure size 432x288 with 1 Axes>"
      ]
     },
     "metadata": {
      "needs_background": "light"
     },
     "output_type": "display_data"
    }
   ],
   "source": [
    "# Load data\n",
    "data = []\n",
    "class1 = []\n",
    "class2 = []\n",
    "with open('data_3_5.csv') as csvDataFile:\n",
    "    csvReader = csv.reader(csvDataFile)\n",
    "    for row in csvReader:\n",
    "        data.append([float(row[0]), float(row[1])])\n",
    "        if row[1] == '1':\n",
    "            class1.append(float(row[0]))\n",
    "        else:\n",
    "            class2.append(float(row[0]))\n",
    "            \n",
    "print(\"Class 1: \", len(class1))\n",
    "print(\"Class 2: \", len(class2))\n",
    "\n",
    "# Construct normal distributions for classes 1 and 2\n",
    "mu1, sigma1 = norm.fit(class1)\n",
    "mu2, sigma2 = norm.fit(class2)\n",
    "\n",
    "print(\"Mu 1: \", mu1, \"Sigma 1: \", sigma1)\n",
    "print(\"Mu 2: \", mu2, \"Sigma 2: \", sigma2)\n",
    "\n",
    "# Bayes Classifier: probability that a datapoint belongs in class C given X\n",
    "# is proportional to the probability of seeing this data point given we are in class C\n",
    "# times the probability of class C occuring.\n",
    "\n",
    "# Sooo... sample each X from each distribution, then multiply by the length of that\n",
    "# distribution. Whichever probability is higher, choose that class.\n",
    "\n",
    "dist_c1 = norm(mu1, sigma1)\n",
    "dist_c2 = norm(mu2, sigma2)\n",
    "\n",
    "# Plot PDFs of each class\n",
    "x = np.linspace(-13, 17, 100)\n",
    "plt.plot(x, dist_c1.pdf(x))\n",
    "plt.plot(x, dist_c2.pdf(x))\n",
    "\n",
    "len_c1 = len(class1)\n",
    "len_c2 = len(class2)\n",
    "len_data = len(data)\n",
    "predicted = [0, 0] # List to keep track of number of points predicted in each class\n",
    "\n",
    "tp = 0\n",
    "fp = 0\n",
    "tn = 0\n",
    "fn = 0\n",
    "\n",
    "for d in data:\n",
    "    prob_c1 = dist_c1.pdf(d[0]) * len_c1 / len_data\n",
    "    prob_c2 = dist_c2.pdf(d[0]) * len_c2 / len_data\n",
    "    if prob_c1 > prob_c2: # If likelihood of coming from class 1 is higher, predict class 1\n",
    "        predicted[0] += 1 # Class 1\n",
    "        # Populate confusion matrix\n",
    "        if d[1] == 1:\n",
    "            tp += 1\n",
    "        else:\n",
    "            fp += 1\n",
    "    else:\n",
    "        predicted[1] += 1 # Class 2\n",
    "        # Populate confusion matrix\n",
    "        if d[1] == 0:\n",
    "            tn += 1\n",
    "        else:\n",
    "            fn += 1\n",
    "        \n",
    "print(\"Predicted class 1: \", predicted[0])\n",
    "print(\"Predicted class 2: \", predicted[1])\n",
    "print(\"TPR: \", tp / (tp + fn))\n",
    "print(\"FPR: \", tn / (tn + fp))\n",
    "\n"
   ]
  },
  {
   "cell_type": "code",
   "execution_count": null,
   "metadata": {},
   "outputs": [],
   "source": []
  }
 ],
 "metadata": {
  "kernelspec": {
   "display_name": "Python 3",
   "language": "python",
   "name": "python3"
  },
  "language_info": {
   "codemirror_mode": {
    "name": "ipython",
    "version": 3
   },
   "file_extension": ".py",
   "mimetype": "text/x-python",
   "name": "python",
   "nbconvert_exporter": "python",
   "pygments_lexer": "ipython3",
   "version": "3.6.7"
  }
 },
 "nbformat": 4,
 "nbformat_minor": 4
}
