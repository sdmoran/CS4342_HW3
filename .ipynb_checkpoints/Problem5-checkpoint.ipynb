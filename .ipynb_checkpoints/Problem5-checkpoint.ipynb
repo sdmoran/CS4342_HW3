{
 "cells": [
  {
   "cell_type": "code",
   "execution_count": 2,
   "metadata": {},
   "outputs": [],
   "source": [
    "# Imports\n",
    "import scipy\n",
    "from scipy.stats import norm\n",
    "import matplotlib.pyplot as plt\n",
    "import numpy as np\n",
    "import csv\n",
    "from sklearn.metrics import roc_curve"
   ]
  },
  {
   "cell_type": "code",
   "execution_count": 3,
   "metadata": {},
   "outputs": [
    {
     "name": "stdout",
     "output_type": "stream",
     "text": [
      "Class 1 length:  3000\n",
      "Class 2 length:  1500\n"
     ]
    }
   ],
   "source": [
    "# Load data\n",
    "data = []\n",
    "class1 = []\n",
    "class2 = []\n",
    "with open('data_3_5.csv') as csvDataFile:\n",
    "    csvReader = csv.reader(csvDataFile)\n",
    "    for row in csvReader:\n",
    "        data.append([float(row[0]), float(row[1])])\n",
    "        if row[1] == '1':\n",
    "            class1.append(float(row[0]))\n",
    "        else:\n",
    "            class2.append(float(row[0]))\n",
    "            \n",
    "print(\"Class 1 length: \", len(class1))\n",
    "print(\"Class 2 length: \", len(class2))"
   ]
  },
  {
   "cell_type": "markdown",
   "metadata": {},
   "source": [
    "### Problem 5A"
   ]
  },
  {
   "cell_type": "code",
   "execution_count": 17,
   "metadata": {},
   "outputs": [
    {
     "name": "stdout",
     "output_type": "stream",
     "text": [
      "Mu 1:  1.9993985786113184 Sigma 1:  5.04604258685262\n",
      "Mu 2:  2.9682945975810497 Sigma 2:  1.9806803152971366\n",
      "Predicted class 1:  3663\n",
      "Predicted class 2:  837\n",
      "TPR:  0.7818608287724785\n",
      "FPR:  0.0\n"
     ]
    },
    {
     "data": {
      "text/plain": [
       "Text(0, 0.5, 'TPR')"
      ]
     },
     "execution_count": 17,
     "metadata": {},
     "output_type": "execute_result"
    },
    {
     "data": {
      "image/png": "[encoded data removed]",
      "text/plain": [
       "<Figure size 432x288 with 1 Axes>"
      ]
     },
     "metadata": {
      "needs_background": "light"
     },
     "output_type": "display_data"
    },
    {
     "data": {
      "image/png": "[encoded data removed]",
      "text/plain": [
       "<Figure size 432x288 with 1 Axes>"
      ]
     },
     "metadata": {
      "needs_background": "light"
     },
     "output_type": "display_data"
    }
   ],
   "source": [
    "# Construct normal distributions for classes 1 and 2\n",
    "mu1, sigma1 = norm.fit(class1)\n",
    "mu2, sigma2 = norm.fit(class2)\n",
    "\n",
    "print(\"Mu 1: \", mu1, \"Sigma 1: \", sigma1)\n",
    "print(\"Mu 2: \", mu2, \"Sigma 2: \", sigma2)\n",
    "\n",
    "# Bayes Classifier: probability that a datapoint belongs in class C given X\n",
    "# is proportional to the probability of seeing this data point given we are in class C\n",
    "# times the probability of class C occuring.\n",
    "\n",
    "# Sooo... sample each X from each distribution, then multiply by the length of that\n",
    "# distribution. Whichever probability is higher, choose that class.\n",
    "\n",
    "dist_c1 = norm(mu1, sigma1)\n",
    "dist_c2 = norm(mu2, sigma2)\n",
    "\n",
    "# Plot PDFs of each class\n",
    "x = np.linspace(-13, 17, 100)\n",
    "plt.plot(x, dist_c1.pdf(x))\n",
    "plt.plot(x, dist_c2.pdf(x))\n",
    "\n",
    "len_c1 = len(class1)\n",
    "len_c2 = len(class2)\n",
    "len_data = len(data)\n",
    "predicted = [0, 0] # List to keep track of number of points predicted in each class\n",
    "\n",
    "tp = 0\n",
    "fp = 0\n",
    "tn = 0\n",
    "fn = 0\n",
    "\n",
    "target_scores = []\n",
    "\n",
    "for d in data:\n",
    "    prob_c1 = dist_c1.pdf(d[0]) * len_c1 / len_data\n",
    "    prob_c2 = dist_c2.pdf(d[0]) * len_c2 / len_data\n",
    "    if prob_c1 > prob_c2: # If likelihood of coming from class 1 is higher, predict class 1\n",
    "        predicted[0] += 1 # Class 1\n",
    "        target_scores.append(prob_c1)\n",
    "        # Populate confusion matrix\n",
    "        if d[1] == 1:\n",
    "            tp += 1\n",
    "        else:\n",
    "            fp += 1\n",
    "    else:\n",
    "        predicted[1] += 1 # Class 2\n",
    "        target_scores.append(prob_c2)\n",
    "        # Populate confusion matrix\n",
    "        if d[1] == 0:\n",
    "            tn += 1\n",
    "        else:\n",
    "            fn += 1\n",
    "\n",
    "# Print statistics about the data\n",
    "print(\"Predicted class 1: \", predicted[0])\n",
    "print(\"Predicted class 2: \", predicted[1])\n",
    "print(\"TPR: \", tp / (tp + fn))\n",
    "print(\"FPR: \", tn / (tn + fp))\n"
   ]
  },
  {
   "cell_type": "markdown",
   "metadata": {},
   "source": [
    "### Problem 5B\n",
    "The model does not fit the data all that well because the distributions of each class of data overlap so heavily, as shown in the figure above. The PDFs for Class 1 and Class 2 of the data overlap heavily and have very different shapes. Class 1 is quite spread out from its mean of 1.99, with a variance of 5.04, while Class 2 is concentrated around its mean at 2.97 with a variance of only 1.98. This means that the two PDFs overlap significantly in the range (0, 5), and the model predicts false positives (Class 2) in this range because Class 2's PDF is concentrated in this range. No false negatives occur because there is no point where Class 1 is more likely than Class 2."
   ]
  },
  {
   "cell_type": "markdown",
   "metadata": {},
   "source": [
    "### Problem 5C & 5D"
   ]
  },
  {
   "cell_type": "code",
   "execution_count": 18,
   "metadata": {},
   "outputs": [
    {
     "data": {
      "text/plain": [
       "Text(0, 0.5, 'TPR')"
      ]
     },
     "execution_count": 18,
     "metadata": {},
     "output_type": "execute_result"
    },
    {
     "data": {
      "image/png": "[encoded data removed]",
      "text/plain": [
       "<Figure size 432x288 with 1 Axes>"
      ]
     },
     "metadata": {
      "needs_background": "light"
     },
     "output_type": "display_data"
    }
   ],
   "source": [
    "# 3C: Construct and plot ROC curve based on Bayes classifier above\n",
    "y = np.array([i[1] for i in data])\n",
    "scores = np.array(target_scores)\n",
    "fpr, tpr, thresholds = roc_curve(y, scores, pos_label=2)\n",
    "fig1, ax1 = plt.subplots()\n",
    "ax1.plot(fpr, tpr)\n",
    "plt.title(label=\"ROC Curve\", loc='center')\n",
    "plt.xlabel('FPR')\n",
    "plt.ylabel('TPR')\n",
    "\n",
    "# 3D: Build ROC empirically !!!TODO"
   ]
  }
 ],
 "metadata": {
  "kernelspec": {
   "display_name": "Python 3",
   "language": "python",
   "name": "python3"
  },
  "language_info": {
   "codemirror_mode": {
    "name": "ipython",
    "version": 3
   },
   "file_extension": ".py",
   "mimetype": "text/x-python",
   "name": "python",
   "nbconvert_exporter": "python",
   "pygments_lexer": "ipython3",
   "version": "3.6.7"
  }
 },
 "nbformat": 4,
 "nbformat_minor": 4
}
