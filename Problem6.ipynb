{
 "cells": [
  {
   "cell_type": "markdown",
   "metadata": {},
   "source": [
    "## Problem 6"
   ]
  },
  {
   "cell_type": "code",
   "execution_count": 41,
   "metadata": {},
   "outputs": [],
   "source": [
    "# Imports\n",
    "import csv\n",
    "import numpy as np\n",
    "import matplotlib.pyplot as plt\n",
    "from sklearn.discriminant_analysis import QuadraticDiscriminantAnalysis"
   ]
  },
  {
   "cell_type": "code",
   "execution_count": 24,
   "metadata": {},
   "outputs": [
    {
     "name": "stdout",
     "output_type": "stream",
     "text": [
      "Class 1 length:  1000\n",
      "Class 2 length:  500\n",
      "Class 3 length:  1000\n"
     ]
    }
   ],
   "source": [
    "# Load data\n",
    "data = []\n",
    "classes = [[], [], []]\n",
    "with open('data_3_6.csv') as csvDataFile:\n",
    "    csvReader = csv.reader(csvDataFile)\n",
    "    for row in csvReader:\n",
    "        data.append([float(row[0]), float(row[1]), float(row[2])]) # Not the BEST way of doing this, but mapping float() did weird things.\n",
    "        if row[2] == '1':\n",
    "            classes[0].append(list(map(float, row[0:2])))\n",
    "        elif row[2] == '2':\n",
    "            classes[1].append(list(map(float, row[0:2])))\n",
    "        else:\n",
    "            classes[2].append(list(map(float, row[0:2])))\n",
    "            \n",
    "print(\"Class 1 length: \", len(classes[0]))\n",
    "print(\"Class 2 length: \", len(classes[1]))\n",
    "print(\"Class 3 length: \", len(classes[2]))"
   ]
  },
  {
   "cell_type": "markdown",
   "metadata": {},
   "source": [
    "### 6A"
   ]
  },
  {
   "cell_type": "code",
   "execution_count": 64,
   "metadata": {},
   "outputs": [
    {
     "name": "stdout",
     "output_type": "stream",
     "text": [
      "QDA predictions in class 1:  1732\n",
      "QDA predictions in class 2:  768\n",
      "Means:  [0.01178362996246658, 4.025505056145721, -1.362255644009889]\n",
      "Sigmas:  [array([[ 3.15511086, -1.082084  ],\n",
      "       [-1.082084  ,  2.10518773]]), array([[3.43351747, 0.03114848],\n",
      "       [0.03114848, 5.75450287]]), array([[10.85896586,  0.10843396],\n",
      "       [ 0.10843396,  3.12917255]])]\n"
     ]
    },
    {
     "data": {
      "image/png": "[encoded data removed]",
      "text/plain": [
       "<Figure size 432x288 with 1 Axes>"
      ]
     },
     "metadata": {
      "needs_background": "light"
     },
     "output_type": "display_data"
    }
   ],
   "source": [
    "# Visualize data\n",
    "\n",
    "colors = ['y', 'r', 'b']\n",
    "idx = 0\n",
    "\n",
    "# Loop through each class of data and plot in a different color\n",
    "for c in classes:\n",
    "    idx = (idx + 1) % 3\n",
    "    for data in c:\n",
    "        plt.scatter(data[0], data[1], color=colors[idx])\n",
    "    \n",
    "# Determien multivariate normal distribution parameters for each class\n",
    "means = [[], [], []]\n",
    "sigmas = [[], [], []]\n",
    "for i in range(len(classes)):\n",
    "    means[i] = np.mean(classes[i])\n",
    "    sigmas[i] = np.cov(np.array(classes[i]).T) # Convert to NP array and transpose\n",
    "\n",
    "print(\"Means: \", means)\n",
    "print(\"Sigmas: \", sigmas)\n",
    "    \n",
    "    \n",
    "# Construct a QDA classifier with sklearn\n",
    "X = np.array(classes[0] + classes[1])\n",
    "y = np.array([1 for i in range(len(classes[0]))] + [2 for i in range(len(classes[1]))])\n",
    "clf = QuadraticDiscriminantAnalysis()\n",
    "model = clf.fit(X, y)\n",
    "predictions = [0, 0, 0]\n",
    "\n",
    "# Predict points\n",
    "for i in range(len(classes)):\n",
    "    for j in range(len(classes[i])):\n",
    "        yhat = model.predict([classes[i][j]])[0]\n",
    "        #print(yhat)\n",
    "        predictions[yhat - 1]+= 1\n",
    "        \n",
    "print(\"QDA predictions in class 1: \", predictions[0])\n",
    "print(\"QDA predictions in class 2: \", predictions[1])"
   ]
  },
  {
   "cell_type": "markdown",
   "metadata": {},
   "source": [
    "### Discussion\n",
    "These data are in 3 distinct classes. We can build 3 different classifiers (Naive Bayes, LDA and QDA). !!! Add more here after figuring out the distributions and classifiers."
   ]
  }
 ],
 "metadata": {
  "kernelspec": {
   "display_name": "Python 3",
   "language": "python",
   "name": "python3"
  },
  "language_info": {
   "codemirror_mode": {
    "name": "ipython",
    "version": 3
   },
   "file_extension": ".py",
   "mimetype": "text/x-python",
   "name": "python",
   "nbconvert_exporter": "python",
   "pygments_lexer": "ipython3",
   "version": "3.6.7"
  }
 },
 "nbformat": 4,
 "nbformat_minor": 4
}
